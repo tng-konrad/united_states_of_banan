{
 "cells": [
  {
   "cell_type": "code",
   "execution_count": 1,
   "id": "9f9a6d26",
   "metadata": {
    "execution": {
     "iopub.execute_input": "2024-04-23T12:18:19.907673Z",
     "iopub.status.busy": "2024-04-23T12:18:19.906971Z",
     "iopub.status.idle": "2024-04-23T12:18:37.486270Z",
     "shell.execute_reply": "2024-04-23T12:18:37.484662Z"
    },
    "papermill": {
     "duration": 17.590689,
     "end_time": "2024-04-23T12:18:37.489459",
     "exception": false,
     "start_time": "2024-04-23T12:18:19.898770",
     "status": "completed"
    },
    "tags": []
   },
   "outputs": [],
   "source": [
    "!pip install -q openai py_expression_eval google-api-python-client"
   ]
  },
  {
   "cell_type": "code",
   "execution_count": 2,
   "id": "6bef831e",
   "metadata": {
    "execution": {
     "iopub.execute_input": "2024-04-23T12:18:37.503442Z",
     "iopub.status.busy": "2024-04-23T12:18:37.503036Z",
     "iopub.status.idle": "2024-04-23T12:18:38.989031Z",
     "shell.execute_reply": "2024-04-23T12:18:38.987690Z"
    },
    "papermill": {
     "duration": 1.496146,
     "end_time": "2024-04-23T12:18:38.991729",
     "exception": false,
     "start_time": "2024-04-23T12:18:37.495583",
     "status": "completed"
    },
    "tags": []
   },
   "outputs": [],
   "source": [
    "from openai import OpenAI\n",
    "from googleapiclient.discovery import build\n",
    "from py_expression_eval import Parser\n",
    "import re, time, os\n",
    "\n",
    "from kaggle_secrets import UserSecretsClient"
   ]
  },
  {
   "cell_type": "code",
   "execution_count": 3,
   "id": "b368db54",
   "metadata": {
    "execution": {
     "iopub.execute_input": "2024-04-23T12:18:39.005766Z",
     "iopub.status.busy": "2024-04-23T12:18:39.005144Z",
     "iopub.status.idle": "2024-04-23T12:18:39.336290Z",
     "shell.execute_reply": "2024-04-23T12:18:39.335042Z"
    },
    "papermill": {
     "duration": 0.341486,
     "end_time": "2024-04-23T12:18:39.339303",
     "exception": false,
     "start_time": "2024-04-23T12:18:38.997817",
     "status": "completed"
    },
    "tags": []
   },
   "outputs": [],
   "source": [
    "# Follow the SO guide to setup your own custom search engine\n",
    "\n",
    "user_secrets = UserSecretsClient()\n",
    "\n",
    "cse_key =user_secrets.get_secret(\"google_cse\")\n",
    "cse_id =user_secrets.get_secret(\"cse_id\")\n"
   ]
  },
  {
   "cell_type": "code",
   "execution_count": 4,
   "id": "c7fd8955",
   "metadata": {
    "execution": {
     "iopub.execute_input": "2024-04-23T12:18:39.352917Z",
     "iopub.status.busy": "2024-04-23T12:18:39.352473Z",
     "iopub.status.idle": "2024-04-23T12:18:39.357350Z",
     "shell.execute_reply": "2024-04-23T12:18:39.356264Z"
    },
    "papermill": {
     "duration": 0.014454,
     "end_time": "2024-04-23T12:18:39.359757",
     "exception": false,
     "start_time": "2024-04-23T12:18:39.345303",
     "status": "completed"
    },
    "tags": []
   },
   "outputs": [],
   "source": [
    "class CFG:\n",
    "    model = \"gpt-4-turbo\""
   ]
  },
  {
   "cell_type": "markdown",
   "id": "aa2fc278",
   "metadata": {
    "papermill": {
     "duration": 0.005462,
     "end_time": "2024-04-23T12:18:39.371039",
     "exception": false,
     "start_time": "2024-04-23T12:18:39.365577",
     "status": "completed"
    },
    "tags": []
   },
   "source": [
    "# Functions"
   ]
  },
  {
   "cell_type": "code",
   "execution_count": 5,
   "id": "2eaeb4be",
   "metadata": {
    "execution": {
     "iopub.execute_input": "2024-04-23T12:18:39.384726Z",
     "iopub.status.busy": "2024-04-23T12:18:39.384314Z",
     "iopub.status.idle": "2024-04-23T12:18:39.390650Z",
     "shell.execute_reply": "2024-04-23T12:18:39.389533Z"
    },
    "papermill": {
     "duration": 0.016066,
     "end_time": "2024-04-23T12:18:39.392998",
     "exception": false,
     "start_time": "2024-04-23T12:18:39.376932",
     "status": "completed"
    },
    "tags": []
   },
   "outputs": [],
   "source": [
    "# wrapper for the CSE \n",
    "\n",
    "def search(search_term):\n",
    "    search_result = \"\"\n",
    "    service = build(\"customsearch\", \"v1\", developerKey= cse_key )\n",
    "    res = service.cse().list(q=search_term, cx = cse_id, num = 10).execute()\n",
    "    for result in res['items']:\n",
    "        search_result = search_result + result['snippet']\n",
    "    return search_result\n"
   ]
  },
  {
   "cell_type": "markdown",
   "id": "0ab7fe69",
   "metadata": {
    "papermill": {
     "duration": 0.005506,
     "end_time": "2024-04-23T12:18:39.404198",
     "exception": false,
     "start_time": "2024-04-23T12:18:39.398692",
     "status": "completed"
    },
    "tags": []
   },
   "source": [
    "# Base model"
   ]
  },
  {
   "cell_type": "code",
   "execution_count": 6,
   "id": "55a496a2",
   "metadata": {
    "execution": {
     "iopub.execute_input": "2024-04-23T12:18:39.417996Z",
     "iopub.status.busy": "2024-04-23T12:18:39.417614Z",
     "iopub.status.idle": "2024-04-23T12:18:39.628950Z",
     "shell.execute_reply": "2024-04-23T12:18:39.627740Z"
    },
    "papermill": {
     "duration": 0.221911,
     "end_time": "2024-04-23T12:18:39.631966",
     "exception": false,
     "start_time": "2024-04-23T12:18:39.410055",
     "status": "completed"
    },
    "tags": []
   },
   "outputs": [],
   "source": [
    "# setup OpenAI API connection\n",
    "\n",
    "api_key=user_secrets.get_secret(\"openaivision\")\n",
    "os.environ['OPENAI_API_KEY']= api_key\n",
    "\n",
    "\n",
    "client = OpenAI(api_key= api_key)"
   ]
  },
  {
   "cell_type": "code",
   "execution_count": 7,
   "id": "a3466761",
   "metadata": {
    "execution": {
     "iopub.execute_input": "2024-04-23T12:18:39.645616Z",
     "iopub.status.busy": "2024-04-23T12:18:39.645228Z",
     "iopub.status.idle": "2024-04-23T12:18:39.649928Z",
     "shell.execute_reply": "2024-04-23T12:18:39.648995Z"
    },
    "papermill": {
     "duration": 0.014533,
     "end_time": "2024-04-23T12:18:39.652317",
     "exception": false,
     "start_time": "2024-04-23T12:18:39.637784",
     "status": "completed"
    },
    "tags": []
   },
   "outputs": [],
   "source": [
    "muhprompt = \"Where does Mustafa Suleyman work?\""
   ]
  },
  {
   "cell_type": "code",
   "execution_count": 8,
   "id": "3bfb4f89",
   "metadata": {
    "execution": {
     "iopub.execute_input": "2024-04-23T12:18:39.665474Z",
     "iopub.status.busy": "2024-04-23T12:18:39.665039Z",
     "iopub.status.idle": "2024-04-23T12:18:39.670374Z",
     "shell.execute_reply": "2024-04-23T12:18:39.669150Z"
    },
    "papermill": {
     "duration": 0.014946,
     "end_time": "2024-04-23T12:18:39.672968",
     "exception": false,
     "start_time": "2024-04-23T12:18:39.658022",
     "status": "completed"
    },
    "tags": []
   },
   "outputs": [],
   "source": [
    "system_prompt1 = \"You are a helpful assistant, giving factual information.\""
   ]
  },
  {
   "cell_type": "code",
   "execution_count": 9,
   "id": "a8568cf0",
   "metadata": {
    "execution": {
     "iopub.execute_input": "2024-04-23T12:18:39.686535Z",
     "iopub.status.busy": "2024-04-23T12:18:39.685814Z",
     "iopub.status.idle": "2024-04-23T12:18:44.070081Z",
     "shell.execute_reply": "2024-04-23T12:18:44.069181Z"
    },
    "papermill": {
     "duration": 4.393683,
     "end_time": "2024-04-23T12:18:44.072517",
     "exception": false,
     "start_time": "2024-04-23T12:18:39.678834",
     "status": "completed"
    },
    "tags": []
   },
   "outputs": [
    {
     "name": "stdout",
     "output_type": "stream",
     "text": [
      "As of my last update, Mustafa Suleyman is one of the co-founders of DeepMind Technologies, an artificial intelligence company acquired by Google in 2014. He left DeepMind in 2019 and later joined Google to work on AI policy. However, his current position as of 2023 might have changed, so I recommend checking the latest sources for the most current information.\n"
     ]
    }
   ],
   "source": [
    "\n",
    "messages = [\n",
    "        { \"role\": \"system\", \"content\": system_prompt1 },\n",
    "        { \"role\": \"user\", \"content\": muhprompt },\n",
    "    ]\n",
    "\n",
    "completion = client.chat.completions.create(\n",
    "  model = CFG.model,\n",
    "  messages = messages,\n",
    "  temperature = 0,\n",
    "  max_tokens = 1000,\n",
    "  top_p = 1\n",
    ")\n",
    "\n",
    "\n",
    "print(completion.choices[0].message.content)"
   ]
  },
  {
   "cell_type": "markdown",
   "id": "af1fefae",
   "metadata": {
    "papermill": {
     "duration": 0.005614,
     "end_time": "2024-04-23T12:18:44.083937",
     "exception": false,
     "start_time": "2024-04-23T12:18:44.078323",
     "status": "completed"
    },
    "tags": []
   },
   "source": [
    "# Agent"
   ]
  },
  {
   "cell_type": "code",
   "execution_count": 10,
   "id": "eb185fc5",
   "metadata": {
    "execution": {
     "iopub.execute_input": "2024-04-23T12:18:44.098781Z",
     "iopub.status.busy": "2024-04-23T12:18:44.098038Z",
     "iopub.status.idle": "2024-04-23T12:18:44.103565Z",
     "shell.execute_reply": "2024-04-23T12:18:44.102796Z"
    },
    "papermill": {
     "duration": 0.015813,
     "end_time": "2024-04-23T12:18:44.105805",
     "exception": false,
     "start_time": "2024-04-23T12:18:44.089992",
     "status": "completed"
    },
    "tags": []
   },
   "outputs": [],
   "source": [
    "# update the system prompt\n",
    "system_prompt2 = \"\"\"\n",
    "Answer the following questions and obey the following commands as best you can.\n",
    "\n",
    "You have access to the following tools:\n",
    "\n",
    "Search: Search: useful for when you need to answer questions about current events. You should ask targeted questions.\n",
    "Response To Human: When you need to respond to the human you are talking to.\n",
    "\n",
    "You will receive a message from the human, then you should start a loop and do one of two things\n",
    "\n",
    "Option 1: You use a tool to answer the question.\n",
    "For this, you should use the following format:\n",
    "Thought: you should always think about what to do\n",
    "Action: the action to take, should be one of [Search]\n",
    "Action Input: \"the input to the action, to be sent to the tool\"\n",
    "\n",
    "After this, the human will respond with an observation, and you will continue.\n",
    "\n",
    "Option 2: You respond to the human.\n",
    "For this, you should use the following format:\n",
    "Action: Response To Human\n",
    "Action Input: \"your response to the human, summarizing what you did and what you learned\"\n",
    "\n",
    "Begin!\n",
    "\"\"\""
   ]
  },
  {
   "cell_type": "code",
   "execution_count": 11,
   "id": "83542a4a",
   "metadata": {
    "execution": {
     "iopub.execute_input": "2024-04-23T12:18:44.119853Z",
     "iopub.status.busy": "2024-04-23T12:18:44.119121Z",
     "iopub.status.idle": "2024-04-23T12:18:44.125087Z",
     "shell.execute_reply": "2024-04-23T12:18:44.123841Z"
    },
    "papermill": {
     "duration": 0.016357,
     "end_time": "2024-04-23T12:18:44.128039",
     "exception": false,
     "start_time": "2024-04-23T12:18:44.111682",
     "status": "completed"
    },
    "tags": []
   },
   "outputs": [],
   "source": [
    "def extract_action_and_input(text):       \n",
    "    action_pattern = r\"Action: (.+?)\\n\"            \n",
    "    input_pattern = r\"Action Input: \\\"(.+?)\\\"\"\n",
    "    action = re.findall(action_pattern, text)\n",
    "    action_input = re.findall(input_pattern, text)\n",
    "    return action, action_input"
   ]
  },
  {
   "cell_type": "code",
   "execution_count": 12,
   "id": "0968baf6",
   "metadata": {
    "execution": {
     "iopub.execute_input": "2024-04-23T12:18:44.143804Z",
     "iopub.status.busy": "2024-04-23T12:18:44.143090Z",
     "iopub.status.idle": "2024-04-23T12:18:44.153281Z",
     "shell.execute_reply": "2024-04-23T12:18:44.152274Z"
    },
    "papermill": {
     "duration": 0.021826,
     "end_time": "2024-04-23T12:18:44.156079",
     "exception": false,
     "start_time": "2024-04-23T12:18:44.134253",
     "status": "completed"
    },
    "tags": []
   },
   "outputs": [],
   "source": [
    "def Stream_agent(prompt):\n",
    "    messages = [\n",
    "        { \"role\": \"system\", \"content\": system_prompt2 },\n",
    "        { \"role\": \"user\", \"content\": prompt },\n",
    "    ]\n",
    "\n",
    "    while True:\n",
    "        response = client.chat.completions.create(\n",
    "            model = CFG.model, messages=messages, temperature=0, top_p=1,)\n",
    "        response_text = response.choices[0].message.content\n",
    "        print(response_text)\n",
    "        # enforce a wait to prevent the Rate Limit error for free-tier users \n",
    "        time.sleep(20)\n",
    "        \n",
    "        action, action_input = extract_action_and_input(response_text)\n",
    "        if action[-1] == \"Search\":\n",
    "            tool = search\n",
    "        elif action[-1] == \"Response To Human\":\n",
    "            print(f\"Response: {action_input[-1]}\")\n",
    "            break\n",
    "        observation = tool(action_input[-1])\n",
    "        print(\"Observation: \", observation)\n",
    "        messages.extend([\n",
    "            { \"role\": \"system\", \"content\": response_text },\n",
    "            { \"role\": \"user\", \"content\": f\"Observation: {observation}\" },\n",
    "            ])"
   ]
  },
  {
   "cell_type": "code",
   "execution_count": 13,
   "id": "ec968073",
   "metadata": {
    "execution": {
     "iopub.execute_input": "2024-04-23T12:18:44.170246Z",
     "iopub.status.busy": "2024-04-23T12:18:44.169618Z",
     "iopub.status.idle": "2024-04-23T12:19:29.399660Z",
     "shell.execute_reply": "2024-04-23T12:19:29.398497Z"
    },
    "papermill": {
     "duration": 45.246339,
     "end_time": "2024-04-23T12:19:29.408395",
     "exception": false,
     "start_time": "2024-04-23T12:18:44.162056",
     "status": "completed"
    },
    "tags": []
   },
   "outputs": [
    {
     "name": "stdout",
     "output_type": "stream",
     "text": [
      "Thought: I need to find the current workplace of Mustafa Suleyman.\n",
      "Action: Search\n",
      "Action Input: \"Where does Mustafa Suleyman work as of 2023?\"\n",
      "Observation:  DeepMind cofounder ... September 15, ... You can set your browser to block or alert you about these cookies, but some parts of the site will not then work.Sep 7, 2023 ... ... Suleyman, 39, has since struck out on his own. DeepMind was acquired by Google in 2014, and Suleyman pivoted to work for Google itself in ...Mustafa Suleyman: My new Turing test ... July 14, 2023. a desktop computer ejecting a pile of cash. the monitor display is filled ... But the work would all ...Aug 28, 2023 ... ... will hopefully work again – in an entirely transformed context. ... Mustafa Suleyman's solution 'is effectively a utopian dream'. ... 2023. 8. 8.Mustafa Suleyman CBE (born August 1982) is a British artificial intelligence (AI) entrepreneur. He is the CEO of Microsoft AI, and the co-founder and former ...Sep 9, 2023 ... I've known Mustafa Suleyman for several years, first from his work ... One of my first intersections with Moose was on work ... 2023. The major ...Mar 7, 2024 ... ... 2023. This absorption of ... While Mustafa Suleyman is undoubtedly ... All that background does a good job of explaining what this book is about.May 10, 2023 at 8:58 AM PDT. DeepMind co-founder Mustafa Suleyman warned governments there will be serious economic upheaval from AI.In 2023, governments around the world woke up to this challenge. ... This will not work in the age of AI. Good ... MUSTAFA SULEYMAN is CEO and cofounder of ...Aug 16, 2023 ... Can States Learn to Govern Artificial Intelligence—Before It's Too Late? By Ian Bremmer and Mustafa Suleyman. September/October 2023Published on ...\n",
      "Action: Response To Human\n",
      "Action Input: \"Mustafa Suleyman is currently the CEO of Microsoft AI. He is also recognized as a co-founder and former member of DeepMind.\"\n",
      "Response: Mustafa Suleyman is currently the CEO of Microsoft AI. He is also recognized as a co-founder and former member of DeepMind.\n"
     ]
    }
   ],
   "source": [
    "Stream_agent(muhprompt)"
   ]
  }
 ],
 "metadata": {
  "kaggle": {
   "accelerator": "none",
   "dataSources": [],
   "dockerImageVersionId": 30698,
   "isGpuEnabled": false,
   "isInternetEnabled": true,
   "language": "python",
   "sourceType": "notebook"
  },
  "kernelspec": {
   "display_name": "Python 3",
   "language": "python",
   "name": "python3"
  },
  "language_info": {
   "codemirror_mode": {
    "name": "ipython",
    "version": 3
   },
   "file_extension": ".py",
   "mimetype": "text/x-python",
   "name": "python",
   "nbconvert_exporter": "python",
   "pygments_lexer": "ipython3",
   "version": "3.10.13"
  },
  "papermill": {
   "default_parameters": {},
   "duration": 73.49675,
   "end_time": "2024-04-23T12:19:30.036957",
   "environment_variables": {},
   "exception": null,
   "input_path": "__notebook__.ipynb",
   "output_path": "__notebook__.ipynb",
   "parameters": {},
   "start_time": "2024-04-23T12:18:16.540207",
   "version": "2.5.0"
  }
 },
 "nbformat": 4,
 "nbformat_minor": 5
}
